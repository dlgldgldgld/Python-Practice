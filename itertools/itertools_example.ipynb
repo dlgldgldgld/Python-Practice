{
 "cells": [
  {
   "cell_type": "code",
   "execution_count": 1,
   "id": "55d1b0b9",
   "metadata": {},
   "outputs": [
    {
     "name": "stdout",
     "output_type": "stream",
     "text": [
      "[1, 2, 3, 4, 5, 6]\n",
      "['안녕', '안녕', '안녕']\n",
      "[1, 2, 1, 2, 1, 2, 1, 2, 1, 2]\n",
      "['하나', '둘']\n",
      "['하나', '둘']\n",
      "['하나', '둘']\n",
      "zip: [('하나', 1), ('둘', 2)]\n",
      "longest=[('하나', 1), ('둘', 2), ('셋', '없음')]\n",
      "앞에서 다섯개: [1, 2, 3, 4, 5]\n",
      "중간의 홀수들: [3, 5, 7]\n",
      "[1, 2, 3, 4, 5, 6]\n",
      "[1, 2, 3, 4, 5, 6]\n",
      "[7, 8, 9, 10]\n",
      "[7, 8, 9, 10]\n",
      "합계: [1, 3, 6, 10, 15, 21, 28, 36, 45, 55]\n",
      "20으로 나눈 나머지의 합계 [1, 3, 6, 10, 15, 1, 8, 16, 5, 15]\n",
      "리스트 한 개: [(1, 1), (1, 2), (2, 1), (2, 2)]\n",
      "리스트 두 개: [(1, 'a'), (1, 'b'), (2, 'a'), (2, 'b')]\n",
      "[(1, 2), (1, 3), (1, 4), (2, 1), (2, 3), (2, 4), (3, 1), (3, 2), (3, 4), (4, 1), (4, 2), (4, 3)]\n",
      "[(1, 2, 3, 4), (1, 2, 4, 3), (1, 3, 2, 4), (1, 3, 4, 2), (1, 4, 2, 3), (1, 4, 3, 2), (2, 1, 3, 4), (2, 1, 4, 3), (2, 3, 1, 4), (2, 3, 4, 1), (2, 4, 1, 3), (2, 4, 3, 1), (3, 1, 2, 4), (3, 1, 4, 2), (3, 2, 1, 4), (3, 2, 4, 1), (3, 4, 1, 2), (3, 4, 2, 1), (4, 1, 2, 3), (4, 1, 3, 2), (4, 2, 1, 3), (4, 2, 3, 1), (4, 3, 1, 2), (4, 3, 2, 1)]\n",
      "[(1, 2), (1, 3), (1, 4), (2, 3), (2, 4), (3, 4)]\n",
      "[(1, 1), (1, 2), (1, 3), (1, 4), (2, 2), (2, 3), (2, 4), (3, 3), (3, 4), (4, 4)]\n"
     ]
    }
   ],
   "source": [
    "import itertools\n",
    "\n",
    "## 여러 이터레이터를 연결하는 방법\n",
    "# chain : 여러 이터레이터를 하나의 순차적은 인터레이터로 합치고 싶을 때 chain을 사용.\n",
    "it = itertools.chain([1,2,3], [4,5,6])\n",
    "print(list(it))\n",
    "\n"
   ]
  },
  {
   "cell_type": "code",
   "execution_count": 2,
   "id": "49d382ae",
   "metadata": {},
   "outputs": [
    {
     "name": "stdout",
     "output_type": "stream",
     "text": [
      "['안녕', '안녕', '안녕']\n"
     ]
    }
   ],
   "source": [
    "# repeat : 한 값을 계속 반복해서 내놓고 싶을때 repeat을 사용\n",
    "it = itertools.repeat('안녕', 3)\n",
    "print(list(it))\n",
    "\n"
   ]
  },
  {
   "cell_type": "code",
   "execution_count": 3,
   "id": "4707e8af",
   "metadata": {},
   "outputs": [
    {
     "name": "stdout",
     "output_type": "stream",
     "text": [
      "[1, 2, 1, 2, 1, 2, 1, 2, 1, 2]\n"
     ]
    }
   ],
   "source": [
    "# cycle : 어떤 이터레이터가 내놓는 원소들을 계속 반복하고 싶을때는 cycle을 사용\n",
    "it = itertools.cycle([1,2])\n",
    "result = [next(it) for _ in range(10)]\n",
    "print(result)\n",
    "\n"
   ]
  },
  {
   "cell_type": "code",
   "execution_count": 4,
   "id": "4a7a3f72",
   "metadata": {},
   "outputs": [
    {
     "name": "stdout",
     "output_type": "stream",
     "text": [
      "['하나', '둘']\n",
      "['하나', '둘']\n",
      "['하나', '둘']\n"
     ]
    }
   ],
   "source": [
    "# tee : 이터레이터 하나를 여러 변수에 넣고 싶을때 사용\n",
    "it1, it2, it3 = itertools.tee(['하나', '둘'], 3)\n",
    "print(list(it1))\n",
    "print(list(it2))\n",
    "print(list(it3))\n",
    "\n"
   ]
  },
  {
   "cell_type": "code",
   "execution_count": 5,
   "id": "0551d824",
   "metadata": {},
   "outputs": [
    {
     "name": "stdout",
     "output_type": "stream",
     "text": [
      "zip: [('하나', 1), ('둘', 2)]\n",
      "longest=[('하나', 1), ('둘', 2), ('셋', '없음')]\n"
     ]
    }
   ],
   "source": [
    "# zip_longest : zip 할때 길이가 긴쪽을 기준으로 쌍을 맺고싶을때 사용\n",
    "keys = [\"하나\", \"둘\", \"셋\"]\n",
    "values = [1, 2]\n",
    "\n",
    "normal = list(zip(keys, values))\n",
    "print('zip:', normal)\n",
    "\n",
    "it = itertools.zip_longest(keys, values, fillvalue='없음')\n",
    "longest = list(it)\n",
    "print(f'{longest=}')\n",
    "\n"
   ]
  },
  {
   "cell_type": "code",
   "execution_count": 6,
   "id": "4c1c7a84",
   "metadata": {},
   "outputs": [
    {
     "name": "stdout",
     "output_type": "stream",
     "text": [
      "앞에서 다섯개: [1, 2, 3, 4, 5]\n",
      "중간의 홀수들: [3, 5, 7]\n"
     ]
    }
   ],
   "source": [
    "## 이터레이터에서 원소를 filter 하는 방법\n",
    "# islice : 이터레이터를 자르는 함수. 사용법은 slice 구문의 형태와 똑같다. \n",
    "# 시작:끝:증가수 형태\n",
    "\n",
    "values = [1,2,3,4,5,6,7,8,9,10]\n",
    "first_five = itertools.islice(values,5)\n",
    "print('앞에서 다섯개:', list(first_five))\n",
    "\n",
    "middle_odds = itertools.islice(values, 2, 8, 2)\n",
    "print('중간의 홀수들:', list(middle_odds))\n",
    "\n"
   ]
  },
  {
   "cell_type": "code",
   "execution_count": 7,
   "id": "287a53c2",
   "metadata": {},
   "outputs": [
    {
     "name": "stdout",
     "output_type": "stream",
     "text": [
      "[1, 2, 3, 4, 5, 6]\n",
      "[1, 2, 3, 4, 5, 6]\n"
     ]
    }
   ],
   "source": [
    "# takewhile : 인자로 넘기는 함수의 조건에 맞게 잘라준다. True가 되는 부분만 남긴다.\n",
    "# 당연히 람다도 가능하다.\n",
    "def less_than_seven (x):\n",
    "    if x < 7 :\n",
    "        return True\n",
    "    return False\n",
    "\n",
    "it = itertools.takewhile(less_than_seven, values)\n",
    "print(list(it))\n",
    "\n",
    "it = itertools.takewhile(lambda x:x<7, values)\n",
    "print(list(it))\n",
    "\n"
   ]
  },
  {
   "cell_type": "code",
   "execution_count": 8,
   "id": "c883c504",
   "metadata": {},
   "outputs": [
    {
     "name": "stdout",
     "output_type": "stream",
     "text": [
      "[7, 8, 9, 10]\n",
      "[7, 8, 9, 10]\n"
     ]
    }
   ],
   "source": [
    "# dropwhile : take while의 반대다. True가 되는 부분을 자른다.\n",
    "it = itertools.dropwhile(less_than_seven, values)\n",
    "print(list(it))\n",
    "\n",
    "it = itertools.dropwhile(lambda x:x<7, values)\n",
    "print(list(it))\n",
    "\n"
   ]
  },
  {
   "cell_type": "code",
   "execution_count": 10,
   "id": "ccb3f2de",
   "metadata": {},
   "outputs": [
    {
     "name": "stdout",
     "output_type": "stream",
     "text": [
      "합계: [1, 3, 6, 10, 15, 21, 28, 36, 45, 55]\n",
      "20으로 나눈 나머지의 합계 [1, 3, 6, 10, 15, 1, 8, 16, 5, 15]\n"
     ]
    }
   ],
   "source": [
    "## 이터레이터에서 원소의 조합 만들어내기\n",
    "# accumulate : 누산시키면서 하나씩 뱉어내는 함수, labmda 나 function 사용도 가능하다\n",
    "sum_reduce = itertools.accumulate(values)\n",
    "print('합계:', list(sum_reduce))\n",
    "\n",
    "modulo_reduce = itertools.accumulate(values, lambda x,y : (x+y)%20)\n",
    "print('20으로 나눈 나머지의 합계', list(modulo_reduce))\n",
    "\n"
   ]
  },
  {
   "cell_type": "code",
   "execution_count": 11,
   "id": "8ce76fb6",
   "metadata": {},
   "outputs": [
    {
     "name": "stdout",
     "output_type": "stream",
     "text": [
      "리스트 한 개: [(1, 1), (1, 2), (2, 1), (2, 2)]\n",
      "리스트 두 개: [(1, 'a'), (1, 'b'), (2, 'a'), (2, 'b')]\n"
     ]
    }
   ],
   "source": [
    "# product : product 연산\n",
    "single = itertools.product([1,2], repeat=2)\n",
    "print('리스트 한 개:', list(single))\n",
    "multiple = itertools.product([1,2], ['a','b'])\n",
    "print('리스트 두 개:', list(multiple))\n",
    "\n"
   ]
  },
  {
   "cell_type": "code",
   "execution_count": 12,
   "id": "e76c5425",
   "metadata": {},
   "outputs": [
    {
     "name": "stdout",
     "output_type": "stream",
     "text": [
      "[(1, 2), (1, 3), (1, 4), (2, 1), (2, 3), (2, 4), (3, 1), (3, 2), (3, 4), (4, 1), (4, 2), (4, 3)]\n",
      "[(1, 2, 3, 4), (1, 2, 4, 3), (1, 3, 2, 4), (1, 3, 4, 2), (1, 4, 2, 3), (1, 4, 3, 2), (2, 1, 3, 4), (2, 1, 4, 3), (2, 3, 1, 4), (2, 3, 4, 1), (2, 4, 1, 3), (2, 4, 3, 1), (3, 1, 2, 4), (3, 1, 4, 2), (3, 2, 1, 4), (3, 2, 4, 1), (3, 4, 1, 2), (3, 4, 2, 1), (4, 1, 2, 3), (4, 1, 3, 2), (4, 2, 1, 3), (4, 2, 3, 1), (4, 3, 1, 2), (4, 3, 2, 1)]\n",
      "[(1, 2), (1, 3), (1, 4), (2, 3), (2, 4), (3, 4)]\n",
      "[(1, 1), (1, 2), (1, 3), (1, 4), (2, 2), (2, 3), (2, 4), (3, 3), (3, 4), (4, 4)]\n"
     ]
    }
   ],
   "source": [
    "# permutations : iterator 원소들로 길이 N인 순열을 생성. 두번째 인자를 전달하지 않으면 iterator 개수가 default 로 들어가는 듯\n",
    "it = itertools.permutations([1,2,3,4], 2)\n",
    "print(list(it))\n",
    "\n",
    "it = itertools.permutations([1,2,3,4], 4)\n",
    "print(list(it))\n",
    "\n",
    "# combinations : 길이 N인 조합을 만들어준다.\n",
    "it = itertools.combinations([1,2,3,4],2)\n",
    "print(list(it))\n",
    "\n",
    "# combinations_with_replacement : combination과 동일하지만 중복을 포함한다. 즉, 중복조합을 만들어준다.\n",
    "it = itertools.combinations_with_replacement([1,2,3,4],2)\n",
    "print(list(it))\n"
   ]
  },
  {
   "cell_type": "code",
   "execution_count": null,
   "id": "388d0517",
   "metadata": {},
   "outputs": [],
   "source": []
  }
 ],
 "metadata": {
  "kernelspec": {
   "display_name": "Python 3 (ipykernel)",
   "language": "python",
   "name": "python3"
  },
  "language_info": {
   "codemirror_mode": {
    "name": "ipython",
    "version": 3
   },
   "file_extension": ".py",
   "mimetype": "text/x-python",
   "name": "python",
   "nbconvert_exporter": "python",
   "pygments_lexer": "ipython3",
   "version": "3.9.7"
  }
 },
 "nbformat": 4,
 "nbformat_minor": 5
}
