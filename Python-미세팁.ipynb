{
 "cells": [
  {
   "cell_type": "code",
   "execution_count": 1,
   "id": "fd63b2e2",
   "metadata": {},
   "outputs": [],
   "source": [
    "# Python Code 미세팁"
   ]
  },
  {
   "cell_type": "code",
   "execution_count": 2,
   "id": "23aaf9ad",
   "metadata": {},
   "outputs": [],
   "source": [
    "## Save Memory with Generators"
   ]
  },
  {
   "cell_type": "code",
   "execution_count": 3,
   "id": "40b49e51",
   "metadata": {},
   "outputs": [
    {
     "name": "stdout",
     "output_type": "stream",
     "text": [
      "85176 bytes\n",
      "112 bytes\n"
     ]
    }
   ],
   "source": [
    "import sys\n",
    "\n",
    "my_list = [i for i in range(10000)]\n",
    "# my_gen과 같이 괄호안에 for를 넣으면 generator expression이 된다. Comprehension 과는 다르다.\n",
    "my_gen = (i for i in range(10000))\n",
    "\n",
    "print(sys.getsizeof(my_list), \"bytes\")\n",
    "print(sys.getsizeof(my_gen), \"bytes\")"
   ]
  },
  {
   "cell_type": "code",
   "execution_count": 5,
   "id": "a920b508",
   "metadata": {},
   "outputs": [],
   "source": [
    "# Count hashable objects with collections.Counter"
   ]
  },
  {
   "cell_type": "code",
   "execution_count": 10,
   "id": "4df125ed",
   "metadata": {},
   "outputs": [
    {
     "name": "stdout",
     "output_type": "stream",
     "text": [
      "Counter({9: 5, 10: 3, 5: 2, 2: 1})\n",
      "[(9, 5), (10, 3), (5, 2), (2, 1)]\n",
      "[(9, 5), (10, 3)]\n"
     ]
    }
   ],
   "source": [
    "from collections import Counter\n",
    "\n",
    "my_list = [10,10,10,5,5,2,9,9,9,9,9]\n",
    "counter = Counter(my_list)\n",
    "\n",
    "print(counter)\n",
    "\n",
    "most_common = counter.most_common(4)\n",
    "print(most_common)\n",
    "most_common = counter.most_common(2)\n",
    "print(most_common)"
   ]
  },
  {
   "cell_type": "code",
   "execution_count": 11,
   "id": "3d260f88",
   "metadata": {},
   "outputs": [
    {
     "name": "stdout",
     "output_type": "stream",
     "text": [
      "{'name': 'Alex', 'age': 25, 'city': 'New York'}\n"
     ]
    }
   ],
   "source": [
    "# merge two dictionaries ( 3.5+ )\n",
    "\n",
    "d1 = {\"name\" : \"Alex\", \"age\" : 25}\n",
    "d2 = {\"name\" : \"Alex\", \"city\" : \"New York\"}\n",
    "merged_dict = {**d1, **d2}\n",
    "print(merged_dict)"
   ]
  },
  {
   "cell_type": "code",
   "execution_count": 13,
   "id": "02675ca3",
   "metadata": {},
   "outputs": [
    {
     "name": "stdout",
     "output_type": "stream",
     "text": [
      "is main color\n"
     ]
    }
   ],
   "source": [
    "# simplify if statement for multiple checks\n",
    "\n",
    "colors = [\"red\", \"green\", \"blue\"]\n",
    "c = \"red\"\n",
    "if c in colors :\n",
    "    print(\"is main color\")"
   ]
  },
  {
   "cell_type": "code",
   "execution_count": 14,
   "id": "2110c036",
   "metadata": {},
   "outputs": [
    {
     "data": {
      "text/plain": [
       "0"
      ]
     },
     "execution_count": 14,
     "metadata": {},
     "output_type": "execute_result"
    }
   ],
   "source": [
    "# Execute a Program or System Command\n",
    "\n",
    "import subprocess\n",
    "subprocess.run([\"dir\"], shell=True, check=True)\n",
    "\n",
    "import os \n",
    "os.system(\"dir\")\n",
    "\n",
    "# subprocess.Popen([\"/usr/bin/git\", \"commit\", \"-m\", \"Fixes a bug.\"])"
   ]
  },
  {
   "cell_type": "code",
   "execution_count": null,
   "id": "ce3a73d3",
   "metadata": {},
   "outputs": [],
   "source": []
  }
 ],
 "metadata": {
  "kernelspec": {
   "display_name": "Python 3 (ipykernel)",
   "language": "python",
   "name": "python3"
  },
  "language_info": {
   "codemirror_mode": {
    "name": "ipython",
    "version": 3
   },
   "file_extension": ".py",
   "mimetype": "text/x-python",
   "name": "python",
   "nbconvert_exporter": "python",
   "pygments_lexer": "ipython3",
   "version": "3.9.7"
  }
 },
 "nbformat": 4,
 "nbformat_minor": 5
}
